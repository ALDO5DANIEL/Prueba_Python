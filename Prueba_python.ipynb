{
 "cells": [
  {
   "cell_type": "code",
   "execution_count": 1,
   "metadata": {},
   "outputs": [],
   "source": [
    "import pandas as pd"
   ]
  },
  {
   "cell_type": "code",
   "execution_count": 37,
   "metadata": {},
   "outputs": [],
   "source": [
    "df= pd.read_csv(\"Datos.csv\", index_col= \"id\")"
   ]
  },
  {
   "cell_type": "code",
   "execution_count": 38,
   "metadata": {},
   "outputs": [
    {
     "data": {
      "text/html": [
       "<div>\n",
       "<style scoped>\n",
       "    .dataframe tbody tr th:only-of-type {\n",
       "        vertical-align: middle;\n",
       "    }\n",
       "\n",
       "    .dataframe tbody tr th {\n",
       "        vertical-align: top;\n",
       "    }\n",
       "\n",
       "    .dataframe thead th {\n",
       "        text-align: right;\n",
       "    }\n",
       "</style>\n",
       "<table border=\"1\" class=\"dataframe\">\n",
       "  <thead>\n",
       "    <tr style=\"text-align: right;\">\n",
       "      <th></th>\n",
       "      <th>name</th>\n",
       "      <th>last_name</th>\n",
       "      <th>startDate</th>\n",
       "      <th>work</th>\n",
       "      <th>id.1</th>\n",
       "      <th>name.1</th>\n",
       "    </tr>\n",
       "    <tr>\n",
       "      <th>id</th>\n",
       "      <th></th>\n",
       "      <th></th>\n",
       "      <th></th>\n",
       "      <th></th>\n",
       "      <th></th>\n",
       "      <th></th>\n",
       "    </tr>\n",
       "  </thead>\n",
       "  <tbody>\n",
       "    <tr>\n",
       "      <th>1</th>\n",
       "      <td>Jose Alberto</td>\n",
       "      <td>Escalona</td>\n",
       "      <td>8-04-2021</td>\n",
       "      <td>Chedraui</td>\n",
       "      <td>1</td>\n",
       "      <td>Jose Alberto</td>\n",
       "    </tr>\n",
       "    <tr>\n",
       "      <th>2</th>\n",
       "      <td>Nadia</td>\n",
       "      <td>Buendia</td>\n",
       "      <td>03-04-2021</td>\n",
       "      <td>Walmart</td>\n",
       "      <td>2</td>\n",
       "      <td>Nadia</td>\n",
       "    </tr>\n",
       "    <tr>\n",
       "      <th>3</th>\n",
       "      <td>Pablo Saul</td>\n",
       "      <td>Ramirez</td>\n",
       "      <td>01-04-2020</td>\n",
       "      <td>GoNet</td>\n",
       "      <td>3</td>\n",
       "      <td>Pablo Saul</td>\n",
       "    </tr>\n",
       "    <tr>\n",
       "      <th>4</th>\n",
       "      <td>Santiago</td>\n",
       "      <td>Perea</td>\n",
       "      <td>02-12-2021</td>\n",
       "      <td>Devlyn</td>\n",
       "      <td>4</td>\n",
       "      <td>Santiago</td>\n",
       "    </tr>\n",
       "    <tr>\n",
       "      <th>5</th>\n",
       "      <td>Brenda</td>\n",
       "      <td>Samperio</td>\n",
       "      <td>03-04-2021</td>\n",
       "      <td>Walmart</td>\n",
       "      <td>5</td>\n",
       "      <td>Brenda</td>\n",
       "    </tr>\n",
       "  </tbody>\n",
       "</table>\n",
       "</div>"
      ],
      "text/plain": [
       "            name last_name   startDate      work  id.1        name.1\n",
       "id                                                                  \n",
       "1   Jose Alberto  Escalona   8-04-2021  Chedraui     1  Jose Alberto\n",
       "2          Nadia   Buendia  03-04-2021   Walmart     2         Nadia\n",
       "3     Pablo Saul   Ramirez  01-04-2020     GoNet     3    Pablo Saul\n",
       "4       Santiago     Perea  02-12-2021    Devlyn     4      Santiago\n",
       "5         Brenda  Samperio  03-04-2021   Walmart     5        Brenda"
      ]
     },
     "execution_count": 38,
     "metadata": {},
     "output_type": "execute_result"
    }
   ],
   "source": [
    "df"
   ]
  },
  {
   "cell_type": "code",
   "execution_count": 43,
   "metadata": {},
   "outputs": [
    {
     "name": "stdout",
     "output_type": "stream",
     "text": [
      "name\n",
      "last_name\n",
      "startDate\n",
      "work\n",
      "id.1\n",
      "name.1\n"
     ]
    }
   ],
   "source": [
    "for id in df:\n",
    "    print (id)"
   ]
  },
  {
   "cell_type": "code",
   "execution_count": 40,
   "metadata": {},
   "outputs": [],
   "source": [
    "Jdf= df.to_json()"
   ]
  },
  {
   "cell_type": "code",
   "execution_count": 41,
   "metadata": {},
   "outputs": [
    {
     "data": {
      "text/plain": [
       "'{\"name\":{\"1\":\"Jose Alberto\",\"2\":\"Nadia\",\"3\":\"Pablo Saul\",\"4\":\"Santiago\",\"5\":\"Brenda\"},\"last_name\":{\"1\":\"Escalona\",\"2\":\"Buendia\",\"3\":\"Ramirez\",\"4\":\"Perea\",\"5\":\"Samperio\"},\"startDate\":{\"1\":\"8-04-2021\",\"2\":\"03-04-2021\",\"3\":\"01-04-2020\",\"4\":\"02-12-2021\",\"5\":\"03-04-2021\"},\"work\":{\"1\":\"Chedraui\",\"2\":\"Walmart\",\"3\":\"GoNet\",\"4\":\"Devlyn\",\"5\":\"Walmart\"},\"id.1\":{\"1\":1,\"2\":2,\"3\":3,\"4\":4,\"5\":5},\"name.1\":{\"1\":\"Jose Alberto\",\"2\":\"Nadia\",\"3\":\"Pablo Saul\",\"4\":\"Santiago\",\"5\":\"Brenda\"}}'"
      ]
     },
     "execution_count": 41,
     "metadata": {},
     "output_type": "execute_result"
    }
   ],
   "source": [
    "Jdf"
   ]
  },
  {
   "cell_type": "code",
   "execution_count": null,
   "metadata": {},
   "outputs": [],
   "source": []
  }
 ],
 "metadata": {
  "kernelspec": {
   "display_name": "Python 3",
   "language": "python",
   "name": "python3"
  },
  "language_info": {
   "codemirror_mode": {
    "name": "ipython",
    "version": 3
   },
   "file_extension": ".py",
   "mimetype": "text/x-python",
   "name": "python",
   "nbconvert_exporter": "python",
   "pygments_lexer": "ipython3",
   "version": "3.8.5"
  }
 },
 "nbformat": 4,
 "nbformat_minor": 4
}
